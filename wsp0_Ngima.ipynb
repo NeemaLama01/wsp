{
  "nbformat": 4,
  "nbformat_minor": 0,
  "metadata": {
    "colab": {
      "provenance": []
    },
    "kernelspec": {
      "name": "python3",
      "display_name": "Python 3"
    },
    "language_info": {
      "name": "python"
    }
  },
  "cells": [
    {
      "cell_type": "markdown",
      "source": [
        "Task - 1: Create a Python program that converts between different units of measurement. • The program should:\n",
        "\n",
        "1.Prompt the user to choose the type of conversion (e.g., length, weight, volume).\n",
        "\n",
        "2.Ask the user to input the value to be converted.\n",
        "\n",
        "3.Perform the conversion and display the result.\n",
        "\n",
        "4.Handle potential errors, such as invalid input or unsupported conversion types. • Requirements:\n",
        "\n",
        "5.Functions: Define at least one function to perform the conversion.\n",
        "\n",
        "6.Error Handling: Use try-except blocks to handle invalid input (e.g., non-numeric values).\n",
        "\n",
        "7.User Input: Prompt the user to select the conversion type and input the value.\n",
        "\n",
        "8.Docstrings: Include a docstring in your function to describe its purpose, parameters, and return value. • Conversion Options:\n",
        "\n",
        "9.Length: – Convert meters (m) to feet (ft). – Convert feet (ft) to meters (m).\n",
        "\n",
        "10.Weight: – Convert kilograms (kg) to pounds (lbs). – Convert pounds (lbs) to kilograms (kg).\n",
        "\n",
        "11.Volume: – Convert liters (L) to gallons (gal). – Convert gallons (gal) to liters (L)."
      ],
      "metadata": {
        "id": "QhcdMUeLlVTE"
      }
    },
    {
      "cell_type": "code",
      "execution_count": null,
      "metadata": {
        "colab": {
          "base_uri": "https://localhost:8080/"
        },
        "id": "foh0q-n8fKz0",
        "outputId": "a00fce8a-3f33-4827-90e4-4dc27606d71c"
      },
      "outputs": [
        {
          "output_type": "stream",
          "name": "stdout",
          "text": [
            "Choose the type of conversion:\n",
            "1. Length\n",
            "2. Weight\n",
            "3. Volume\n",
            "Enter your choice (1, 2, or 3): 1\n",
            "Enter the value for conversion: 1\n",
            "Length Conversion:\n",
            "1. Meters to Feet\n",
            "2. Feet to Meters\n",
            "Enter your choice (1 or 2): 2\n",
            "1.0 feet = 0.30 meters\n"
          ]
        }
      ],
      "source": [
        "def main():\n",
        "    \"\"\"\n",
        "    Function converts user's value to different units based on the conversion type.\n",
        "    Returns: converted value or an error message if an error occurs.\n",
        "    \"\"\"\n",
        "    try:\n",
        "        # Prompt the user for the type of conversion\n",
        "        print(\"Choose the type of conversion:\")\n",
        "        print(\"1. Length\")\n",
        "        print(\"2. Weight\")\n",
        "        print(\"3. Volume\")\n",
        "        conversion_type = int(input(\"Enter your choice (1, 2, or 3): \"))\n",
        "\n",
        "        # Validate conversion type\n",
        "        if conversion_type not in [1, 2, 3]:\n",
        "            raise ValueError(\"Invalid choice. Please select 1, 2, or 3.\")\n",
        "\n",
        "        # Prompt the user for the value to convert\n",
        "        conversion_value = float(input(\"Enter the value for conversion: \"))\n",
        "\n",
        "        # Perform the conversion based on the type\n",
        "        if conversion_type == 1:\n",
        "            print(\"Length Conversion:\")\n",
        "            print(\"1. Meters to Feet\")\n",
        "            print(\"2. Feet to Meters\")\n",
        "            length_choice = int(input(\"Enter your choice (1 or 2): \"))\n",
        "            if length_choice == 1:\n",
        "                result = conversion_value * 3.28084\n",
        "                print(f\"{conversion_value} meters = {result:.2f} feet\")\n",
        "            elif length_choice == 2:\n",
        "                result = conversion_value / 3.28084\n",
        "                print(f\"{conversion_value} feet = {result:.2f} meters\")\n",
        "            else:\n",
        "                print(\"Invalid choice for length conversion.\")\n",
        "\n",
        "        elif conversion_type == 2:\n",
        "            print(\"Weight Conversion:\")\n",
        "            print(\"1. Kilograms to Pounds\")\n",
        "            print(\"2. Pounds to Kilograms\")\n",
        "            weight_choice = int(input(\"Enter your choice (1 or 2): \"))\n",
        "            if weight_choice == 1:\n",
        "                result = conversion_value * 2.20462\n",
        "                print(f\"{conversion_value} kilograms = {result:.2f} pounds\")\n",
        "            elif weight_choice == 2:\n",
        "                result = conversion_value / 2.20462\n",
        "                print(f\"{conversion_value} pounds = {result:.2f} kilograms\")\n",
        "            else:\n",
        "                print(\"Invalid choice for weight conversion.\")\n",
        "\n",
        "        elif conversion_type == 3:\n",
        "            print(\"Volume Conversion:\")\n",
        "            print(\"1. Liters to Gallons\")\n",
        "            print(\"2. Gallons to Liters\")\n",
        "            volume_choice = int(input(\"Enter your choice (1 or 2): \"))\n",
        "            if volume_choice == 1:\n",
        "                result = conversion_value * 0.264172\n",
        "                print(f\"{conversion_value} liters = {result:.2f} gallons\")\n",
        "            elif volume_choice == 2:\n",
        "                result = conversion_value / 0.264172\n",
        "                print(f\"{conversion_value} gallons = {result:.2f} liters\")\n",
        "            else:\n",
        "                print(\"Invalid choice for volume conversion.\")\n",
        "\n",
        "    except ValueError as e:\n",
        "        print(f\"Error: {e}. Please enter valid input.\")\n",
        "\n",
        "\n",
        "# Call the main function\n",
        "if __name__ == \"__main__\":\n",
        "    main()"
      ]
    },
    {
      "cell_type": "markdown",
      "source": [
        "Create a Python program that performs various mathematical operations on a list of numbers. • The Program should:\n",
        "\n",
        "1.Prompt the user to choose an operation (e.g., find the sum, average, maximum, or minimum of the numbers).\n",
        "\n",
        "2.Ask the user to input a list of numbers (separated by spaces).\n",
        "\n",
        "3.Perform the selected operation and display the result.\n",
        "\n",
        "4.Handle potential errors, such as invalid input or empty lists. • Requirements:\n",
        "\n",
        "5.Functions: Define at least one function for each operation (sum, average, maximum, mini- mum).\n",
        "\n",
        "6.Error Handling: Use try-except blocks to handle invalid input (e.g., non-numeric values or empty lists).\n",
        "\n",
        "7.User Input: Prompt the user to select the operation and input the list of numbers.\n",
        "\n",
        "8.Docstrings: Include a docstring in each function to describe its purpose, parameters, and return value."
      ],
      "metadata": {
        "id": "onj_I0jfDywp"
      }
    },
    {
      "cell_type": "code",
      "source": [
        "def num_list():\n",
        "  \"\"\"  ask user to input list of numbers (separated by spaces).\n",
        "       Returns a list of floating point numbers that users enter\n",
        "  \"\"\"\n",
        "  while True:\n",
        "        try:\n",
        "            user_input = input(\"Enter a list of numbers separated by spaces: \").split()\n",
        "            if not user_input:\n",
        "                raise ValueError(\"Input cannot be empty.\")\n",
        "            num = [float(num) for num in user_input]\n",
        "            return num\n",
        "        except ValueError as e:\n",
        "            print(f\"Invalid input: {e}. Please enter numeric values only.\")\n",
        "\n",
        "def calculate_sum(num):\n",
        "    \"\"\"\n",
        "    Calculate the sum of a list of numbers.\n",
        "    Parameters:\n",
        "    numbers (list): A list of numeric values.\n",
        "    Returns:\n",
        "    float: The sum of the numbers.\n",
        "    \"\"\"\n",
        "    return sum(num)\n",
        "\n",
        "def calculate_average(num):\n",
        "    \"\"\"\n",
        "    Calculate the average of a list of numbers.\n",
        "    Parameters:\n",
        "    numbers (list): A list of numeric values.\n",
        "    Returns:\n",
        "    float: The average of the numbers.\n",
        "    \"\"\"\n",
        "    return sum(num) / len(num)\n",
        "\n",
        "def find_maximum(num):\n",
        "    \"\"\"\n",
        "    Find the maximum value in a list of numbers.\n",
        "    Parameters:\n",
        "    numbers (list): A list of numeric values.\n",
        "    Returns:\n",
        "    float: The maximum value in the list.\n",
        "    \"\"\"\n",
        "    return max(num)\n",
        "\n",
        "def find_minimum(num):\n",
        "    \"\"\"\n",
        "    Find the minimum value in a list of numbers.\n",
        "    Parameters:\n",
        "    numbers (list): A list of numeric values.\n",
        "    Returns:\n",
        "    float: The minimum value in the list.\n",
        "    \"\"\"\n",
        "    return min(num)\n",
        "def main():\n",
        "    \"\"\"\n",
        "    Main function to run the program.\n",
        "    \"\"\"\n",
        "    print(\"Welcome to the Math Operations Program!\")\n",
        "    print(\"Choose an operation:\")\n",
        "    print(\"1. Sum\")\n",
        "    print(\"2. Average\")\n",
        "    print(\"3. Maximum\")\n",
        "    print(\"4. Minimum\")\n",
        "\n",
        "    while True:\n",
        "        try:\n",
        "            choice = input(\"Enter your choice (1/2/3/4): \").strip()\n",
        "            if choice not in [\"1\", \"2\", \"3\", \"4\"]:\n",
        "                raise ValueError(\"Invalid choice. Please select 1, 2, 3, or 4.\")\n",
        "\n",
        "            numbers = num_list()\n",
        "\n",
        "            if choice == \"1\":\n",
        "                result = calculate_sum(numbers)\n",
        "                print(f\"The sum of the numbers is: {result}\")\n",
        "            elif choice == \"2\":\n",
        "                result = calculate_average(numbers)\n",
        "                print(f\"The average of the numbers is: {result}\")\n",
        "            elif choice == \"3\":\n",
        "                result = find_maximum(numbers)\n",
        "                print(f\"The maximum number is: {result}\")\n",
        "            elif choice == \"4\":\n",
        "                result = find_minimum(numbers)\n",
        "                print(f\"The minimum number is: {result}\")\n",
        "\n",
        "            break  # Exit the loop after successful operation\n",
        "        except ValueError as e:\n",
        "            print(f\"Error: {e}. Please try again.\")\n",
        "        except ZeroDivisionError:\n",
        "            print(\"Error: Cannot calculate average of an empty list.\")\n",
        "        except Exception as e:\n",
        "            print(f\"An unexpected error occurred: {e}\")\n",
        "\n",
        "\n",
        "if __name__ == \"__main__\":\n",
        "    main()"
      ],
      "metadata": {
        "colab": {
          "base_uri": "https://localhost:8080/"
        },
        "id": "Uh8tQZKGrDIf",
        "outputId": "1213a9e1-cc99-4b70-8992-37df61dccac0"
      },
      "execution_count": 2,
      "outputs": [
        {
          "output_type": "stream",
          "name": "stdout",
          "text": [
            "Welcome to the Math Operations Program!\n",
            "Choose an operation:\n",
            "1. Sum\n",
            "2. Average\n",
            "3. Maximum\n",
            "4. Minimum\n",
            "Enter your choice (1/2/3/4): 1\n",
            "Enter a list of numbers separated by spaces: 2 3 5 7\n",
            "The sum of the numbers is: 17.0\n"
          ]
        }
      ]
    },
    {
      "cell_type": "markdown",
      "source": [
        "Write a Python function that extracts every other element from a list, starting from the first element. • Requirements: – Define a function extract every other(lst) that takes a list lst as input and returns a new list containing every other element from the original list. – Example: For the input [1, 2, 3, 4, 5, 6], the output should be [1, 3, 5]."
      ],
      "metadata": {
        "id": "ZWR_XwlcwQUw"
      }
    },
    {
      "cell_type": "code",
      "source": [
        "def extract_every_other(lst):\n",
        "  return lst[::2]\n",
        "def user_list():\n",
        "  while True:\n",
        "        try:\n",
        "            input_num = input(\"Enter a list of numbers separated by spaces: \").split()\n",
        "            numbers = [int(num) for num in input_num]\n",
        "            if not numbers:\n",
        "                raise ValueError(\"list cannot be empty.\")\n",
        "            return numbers\n",
        "        except ValueError:\n",
        "            print(\"Invalid input. Enter only numbers separated by spaces.\")\n",
        "\n",
        "\n",
        "ulist = user_list()\n",
        "result = extract_every_other(ulist)\n",
        "print(\"Every other element:\", result)"
      ],
      "metadata": {
        "colab": {
          "base_uri": "https://localhost:8080/"
        },
        "id": "tpotuAX0ur2X",
        "outputId": "90a5abd2-b497-4924-8cfc-575b1d39000e"
      },
      "execution_count": 8,
      "outputs": [
        {
          "output_type": "stream",
          "name": "stdout",
          "text": [
            "Enter a list of numbers separated by spaces: 1 2 3 4 5\n",
            "Every other element: [1, 3, 5]\n"
          ]
        }
      ]
    },
    {
      "cell_type": "markdown",
      "source": [
        "Write a Python function that returns a sublist from a given list, starting from a specified index and ending at another specified index. • Requirements: – Define a function get sublist(lst, start, end) that takes a list lst, a starting index start, and an ending index end as input and returns the sublist from start to end (inclusive). – Example: For the input [1, 2, 3, 4, 5, 6] with start=2 and end=4, the output should be [3, 4, 5]."
      ],
      "metadata": {
        "id": "vZRdST5pwUox"
      }
    },
    {
      "cell_type": "code",
      "source": [
        "def get_sublist(lst, start, end):\n",
        "    return lst[start:end + 1]\n",
        "def user_list():\n",
        "    while True:\n",
        "        try:\n",
        "            user_input = input(\"Please enter a list of numbers separated by spaces: \").split()\n",
        "            numbers = [int(num) for num in user_input]\n",
        "            if not numbers:\n",
        "                raise ValueError(\"The list cannot be empty.\")\n",
        "            return numbers\n",
        "        except ValueError:\n",
        "            print(\"Invalid input.Enter only numbers separated by spaces.\")\n",
        "\n",
        "def user_index(prompt, max_index):\n",
        "    while True:\n",
        "        try:\n",
        "            index = int(input(prompt))\n",
        "            if 0 <= index <= max_index:\n",
        "                return index\n",
        "            else:\n",
        "                print(f\"Invalid index.Enter a number between 0 and {max_index}.\")\n",
        "        except ValueError:\n",
        "            print(\"Invalid input. Enter a valid integer.\")\n",
        "\n",
        "ulist = user_list()\n",
        "max_index = len(ulist) - 1\n",
        "start_index = user_index(\"Enter starting index: \", max_index)\n",
        "end_index = user_index(\"Enter ending index: \", max_index)\n",
        "if start_index > end_index:\n",
        "    print(\"Invalid range. The start index cannot be greater than the end index.\")\n",
        "else:\n",
        "    result = get_sublist(ulist, start_index, end_index)\n",
        "    print(\"Sublist:\", result)\n"
      ],
      "metadata": {
        "colab": {
          "base_uri": "https://localhost:8080/"
        },
        "id": "Kc4KX73uwcoa",
        "outputId": "9a61e496-b815-44e8-b950-b8af8a1816e6"
      },
      "execution_count": 9,
      "outputs": [
        {
          "output_type": "stream",
          "name": "stdout",
          "text": [
            "Please enter a list of numbers separated by spaces: 2 4 6 9\n",
            "Enter starting index: 1\n",
            "Enter ending index: 3\n",
            "Sublist: [4, 6, 9]\n"
          ]
        }
      ]
    },
    {
      "cell_type": "markdown",
      "source": [
        "Write a Python function that reverses a list using slicing. • Requirements: – Define a function reverse list(lst) that takes a list lst and returns a reversed list using slicing. – Example: For the input [1, 2, 3, 4, 5], the output should be [5, 4, 3, 2, 1]."
      ],
      "metadata": {
        "id": "8gF4U-FOxLX5"
      }
    },
    {
      "cell_type": "code",
      "source": [
        "def reverse_list(lst):\n",
        "  return lst[::-1]\n",
        "def user_list():\n",
        "  while True:\n",
        "    try:\n",
        "      num_list=input(\"Please enter numbers list separated by spaces: \").split()\n",
        "      num=[int(num)for num in num_list]\n",
        "      if not num:\n",
        "         raise ValueError(\"The list cannot be empty.\")\n",
        "      return num\n",
        "    except ValueError:\n",
        "            print(\"Invalid input.Enter only numbers separated by spaces.\")\n",
        "\n",
        "\n",
        "ulist = user_list()\n",
        "result = reverse_list(ulist)\n",
        "print(\"Every other element:\", result)\n",
        ""
      ],
      "metadata": {
        "colab": {
          "base_uri": "https://localhost:8080/"
        },
        "id": "Mgvsoq8LxKiu",
        "outputId": "31b53ec3-9b4d-47bc-9bac-17c537e26f50"
      },
      "execution_count": 11,
      "outputs": [
        {
          "output_type": "stream",
          "name": "stdout",
          "text": [
            "Please enter numbers list separated by spaces: 2 4 6 8 10\n",
            "Every other element: [10, 8, 6, 4, 2]\n"
          ]
        }
      ]
    },
    {
      "cell_type": "markdown",
      "source": [
        "Write a Python function that removes the first and last elements of a list and returns the resulting sublist. • Requirements: – Define a function remove first last(lst) that takes a list lst and returns a sublist without the first and last elements using slicing. – Example: For the input [1, 2, 3, 4, 5], the output should be [2, 3, 4]."
      ],
      "metadata": {
        "id": "MvmPAY7zyXFI"
      }
    },
    {
      "cell_type": "code",
      "source": [
        "def remove_first_last(lst):\n",
        "    if len(lst) <= 2:\n",
        "        return []\n",
        "    return lst[1:-1]\n",
        "\n",
        "def user_list():\n",
        "    while True:\n",
        "        try:\n",
        "            input_list = input(\"Please enter list of numbers separated by spaces: \").split()\n",
        "            numbers = [int(num) for num in input_list]\n",
        "            if not numbers:\n",
        "                raise ValueError(\"The list cannot be empty.\")\n",
        "            return numbers\n",
        "        except ValueError:\n",
        "            print(\"Invalid input.Enter only numbers separated by spaces.\")\n",
        "\n",
        "u_list = user_list()\n",
        "result = remove_first_last(u_list)\n",
        "print(\"list after removing first and last elements:\", result)"
      ],
      "metadata": {
        "colab": {
          "base_uri": "https://localhost:8080/"
        },
        "id": "yv5OiNrzyaHm",
        "outputId": "22691711-cda7-4c08-ab0a-bde2a06f3adc"
      },
      "execution_count": 12,
      "outputs": [
        {
          "output_type": "stream",
          "name": "stdout",
          "text": [
            "Please enter list of numbers separated by spaces: 3 6 9 12\n",
            "list after removing first and last elements: [6, 9]\n"
          ]
        }
      ]
    },
    {
      "cell_type": "markdown",
      "source": [
        "\n",
        "Write a Python function that extracts the first n elements from a list. • Requirements: – Define a function get first n(lst, n) that takes a list lst and an integer n as input and returns the first n elements of the list using slicing. – Example: For the input [1, 2, 3, 4, 5] with n=3, the output should be [1, 2, 3]."
      ],
      "metadata": {
        "id": "Q8J9mfs2z06V"
      }
    },
    {
      "cell_type": "code",
      "source": [
        "def get_first_n(lst, n):\n",
        "    return lst[:n]\n",
        "\n",
        "def user_list():\n",
        "    while True:\n",
        "        try:\n",
        "            input_list = input(\"Please enter list of numbers separated by spaces: \").split()\n",
        "            numbers = [int(num) for num in input_list]\n",
        "            if not numbers:\n",
        "                raise ValueError(\"The list cannot be empty.\")\n",
        "            return numbers\n",
        "        except ValueError:\n",
        "            print(\"Invalid input. Enter only numbers separated by spaces.\")\n",
        "\n",
        "u_list = user_list()\n",
        "n= int(input(\"Enter the value of n: \"))\n",
        "result = get_first_n(u_list,n)\n",
        "print(\"list after extraction:\", result)"
      ],
      "metadata": {
        "colab": {
          "base_uri": "https://localhost:8080/"
        },
        "id": "O7Mq_wqVz1vH",
        "outputId": "22fd5923-3521-4cd6-bb71-56d22a9bd47d"
      },
      "execution_count": 13,
      "outputs": [
        {
          "output_type": "stream",
          "name": "stdout",
          "text": [
            "Please enter list of numbers separated by spaces: 4 8 12 16\n",
            "Enter the value of n: 2\n",
            "list after extraction: [4, 8]\n"
          ]
        }
      ]
    },
    {
      "cell_type": "markdown",
      "source": [
        "Write a Python function that extracts the last n elements of a list using slicing. • Requirements: – Define a function get last n(lst, n) that takes a list lst and an integer n as input and returns the last n elements of the list. – Example: For the input [1, 2, 3, 4, 5] with n=2, the output should be [4, 5]."
      ],
      "metadata": {
        "id": "njkcTlOf0XGd"
      }
    },
    {
      "cell_type": "code",
      "source": [
        "def get_first_n(lst, n):\n",
        "    return lst[:-n]\n",
        "\n",
        "def user_list():\n",
        "    while True:\n",
        "        try:\n",
        "            input_list = input(\"Please enter list of numbers separated by spaces: \").split()\n",
        "            numbers = [int(num) for num in input_list]\n",
        "            if not numbers:\n",
        "                raise ValueError(\"The list cannot be empty.\")\n",
        "            return numbers\n",
        "        except ValueError:\n",
        "            print(\"Invalid input. Enter only numbers separated by spaces.\")\n",
        "\n",
        "u_list = user_list()\n",
        "n= int(input(\"Enter the value of n: \"))\n",
        "result = get_first_n(u_list,n)\n",
        "print(\"list after extraction:\", result)"
      ],
      "metadata": {
        "colab": {
          "base_uri": "https://localhost:8080/"
        },
        "id": "lZ8n067R0ZrA",
        "outputId": "f9bf49a2-dc71-4708-c184-ad7631a05f7f"
      },
      "execution_count": 14,
      "outputs": [
        {
          "output_type": "stream",
          "name": "stdout",
          "text": [
            "Please enter list of numbers separated by spaces: 1 2 3 4 5 6 \n",
            "Enter the value of n: 3\n",
            "list after extraction: [1, 2, 3]\n"
          ]
        }
      ]
    },
    {
      "cell_type": "markdown",
      "source": [
        "\n",
        "Write a Python function that extracts a list of elements in reverse order starting from the second-to-last element and skipping one element in between. • Requirements: – Define a function reverse skip(lst) that takes a list lst and returns a new list containing every second element starting from the second-to-last, moving backward. – Example: For the input [1, 2, 3, 4, 5, 6], the output should be [5, 3, 1]."
      ],
      "metadata": {
        "id": "EIi7S2up6qBw"
      }
    },
    {
      "cell_type": "code",
      "source": [
        "def reverse_skip(lst):\n",
        "    return lst[-2::-2]\n",
        "\n",
        "def user_list():\n",
        "    while True:\n",
        "        try:\n",
        "            input_list = input(\"Please enter list of numbers separated by spaces: \").split()\n",
        "            numbers = [int(num) for num in input_list]\n",
        "            if not numbers:\n",
        "                raise ValueError(\"The list cannot be empty.\")\n",
        "            return numbers\n",
        "        except ValueError:\n",
        "            print(\"Invalid input. Enter only numbers separated by spaces.\")\n",
        "\n",
        "u_list = user_list()\n",
        "result = reverse_skip(u_list)\n",
        "print(\"list after extraction:\", result)\n"
      ],
      "metadata": {
        "colab": {
          "base_uri": "https://localhost:8080/"
        },
        "id": "P1oOUP-z6s7P",
        "outputId": "ef85ba4a-e45e-4960-e248-daf4facde1ad"
      },
      "execution_count": 15,
      "outputs": [
        {
          "output_type": "stream",
          "name": "stdout",
          "text": [
            "Please enter list of numbers separated by spaces: 2 4 6 8 \n",
            "list after extraction: [6, 2]\n"
          ]
        }
      ]
    },
    {
      "cell_type": "markdown",
      "source": [
        "1. Flatten a Nested List: Write a Python function that takes a nested list and flattens it into a single list, where all the elements are in a single dimension. • Requirements: – Define a function flatten(lst) that takes a nested list lst and returns a flattened version of the list. – Example: For the input [[1, 2], [3, 4], [5]], the output should be [1, 2, 3, 4, 5]."
      ],
      "metadata": {
        "id": "K29qZIWJ7QcU"
      }
    },
    {
      "cell_type": "code",
      "source": [
        "def flatten(lst):\n",
        "    flatten_list = []\n",
        "    for sublist in lst:\n",
        "        if isinstance(sublist, list):\n",
        "            flatten_list.extend(sublist)\n",
        "        else:\n",
        "           flatten_list.append(sublist)\n",
        "    return flatten_list\n",
        "\n",
        "\n",
        "nested_list = [[2, 3], [4, 5], [6]]\n",
        "result = flatten(nested_list)\n",
        "print(result)"
      ],
      "metadata": {
        "colab": {
          "base_uri": "https://localhost:8080/"
        },
        "id": "O_PSBLKS7Tdt",
        "outputId": "b699f085-8a4a-43a2-fd99-dbc1cdc119fd"
      },
      "execution_count": 18,
      "outputs": [
        {
          "output_type": "stream",
          "name": "stdout",
          "text": [
            "[2, 3, 4, 5, 6]\n"
          ]
        }
      ]
    },
    {
      "cell_type": "markdown",
      "source": [
        "\n",
        "Write a Python function that extracts a specific element from a nested list given its indices. • Requirements: – Define a function access nested element(lst, indices) that takes a nested list lst and a list of indices indices, and returns the element at that position. – Example: For the input lst = [[1, 2, 3], [4, 5, 6], [7, 8, 9]] with indices = [1, 2], the output should be 6"
      ],
      "metadata": {
        "id": "uh5UuhX68J5G"
      }
    },
    {
      "cell_type": "code",
      "source": [
        "def access_nested_element(lst, indices):\n",
        "    try:\n",
        "        for index in indices:\n",
        "            lst = lst[index]\n",
        "        return lst\n",
        "    except (IndexError, TypeError):\n",
        "        return \"Invalid indices or structure.\"\n",
        "\n",
        "nested_list = [[2, 4, 8], [3, 6, 9], [4, 8, 9]]\n",
        "indices = [0, 2]\n",
        "result = access_nested_element(nested_list, indices)\n",
        "print(result)"
      ],
      "metadata": {
        "colab": {
          "base_uri": "https://localhost:8080/"
        },
        "id": "tq1AlcIC8RHk",
        "outputId": "14203048-d808-40a6-f2dd-e5eed3eb6758"
      },
      "execution_count": 21,
      "outputs": [
        {
          "output_type": "stream",
          "name": "stdout",
          "text": [
            "8\n"
          ]
        }
      ]
    },
    {
      "cell_type": "markdown",
      "source": [
        "\n",
        "Write a Python function that calculates the sum of all the numbers in a nested list (regardless of depth). • Requirements: – Define a function sum nested(lst) that takes a nested list lst and returns the sum of all the elements. – Example: For the input [[1, 2], [3, [4, 5]], 6], the output should be 21."
      ],
      "metadata": {
        "id": "M5ywalPG83Iw"
      }
    },
    {
      "cell_type": "code",
      "source": [
        "def sum_nested(lst):\n",
        "    total = 0\n",
        "    for item in lst:\n",
        "        if isinstance(item, list):\n",
        "            total += sum_nested(item)\n",
        "        elif isinstance(item, (int, float)):\n",
        "            total += item\n",
        "    return total\n",
        "\n",
        "\n",
        "nested_list = [[1, 2], [3, [4, 5]], 6]\n",
        "result = sum_nested(nested_list)\n",
        "print(result)"
      ],
      "metadata": {
        "colab": {
          "base_uri": "https://localhost:8080/"
        },
        "id": "Im9qk8Gx851e",
        "outputId": "056289f0-6cdd-4468-8d93-0af15933c8fd"
      },
      "execution_count": 22,
      "outputs": [
        {
          "output_type": "stream",
          "name": "stdout",
          "text": [
            "21\n"
          ]
        }
      ]
    },
    {
      "cell_type": "markdown",
      "source": [
        "Write a Python function that removes all occurrences of a specific element from a nested list. • Requirements: – Define a function remove element(lst, elem) that removes elem from lst and returns the modified list. – Example: For the input lst = [[1, 2], [3, 2], [4, 5]] and elem = 2, the output should be [[1], [3], [4, 5]]."
      ],
      "metadata": {
        "id": "CK_I2zG79E-j"
      }
    },
    {
      "cell_type": "code",
      "source": [
        "def remove_element(lst, elem):\n",
        "    result = []\n",
        "    for item in lst:\n",
        "        if isinstance(item, list):\n",
        "            cleaned_sublist = remove_element(item, elem)\n",
        "            if cleaned_sublist:\n",
        "                result.append(cleaned_sublist)\n",
        "        elif item != elem:\n",
        "            result.append(item)\n",
        "    return result\n",
        "lst = [1, 2, [3, 4, [5, 2]], 2, [6, 2]]\n",
        "elem = 2  # Element to remove\n",
        "\n",
        "new_lst = remove_element(lst, elem)\n",
        "print(\"Original list:\", lst)\n",
        "print(\"New list after removing\", elem, \":\", new_lst)"
      ],
      "metadata": {
        "colab": {
          "base_uri": "https://localhost:8080/"
        },
        "id": "nhKUtew_9Ekb",
        "outputId": "0583ca71-d837-4616-c136-231631b28120"
      },
      "execution_count": 27,
      "outputs": [
        {
          "output_type": "stream",
          "name": "stdout",
          "text": [
            "Original list: [1, 2, [3, 4, [5, 2]], 2, [6, 2]]\n",
            "New list after removing 2 : [1, [3, 4, [5]], [6]]\n"
          ]
        }
      ]
    },
    {
      "cell_type": "markdown",
      "source": [
        "Write a Python function that finds the maximum element in a nested list (regardless of depth). • Requirements: – Define a function find max(lst) that takes a nested list lst and returns the maximum element. – Example: For the input [[1, 2], [3, [4, 5]], 6], the output should be 6."
      ],
      "metadata": {
        "id": "qqvIFBef-AO-"
      }
    },
    {
      "cell_type": "code",
      "source": [
        "def find_max(lst):\n",
        "    max_value = 0\n",
        "\n",
        "    for item in lst:\n",
        "        if isinstance(item, list):\n",
        "            max_value = max(max_value, find_max(item))\n",
        "        elif isinstance(item, (int, float)):\n",
        "            max_value = max(max_value, item)\n",
        "\n",
        "    return max_value\n",
        "\n",
        "\n",
        "nested_list = [[2, 4], [3, [9, 27]], 12]\n",
        "result = find_max(nested_list)\n",
        "print(result)"
      ],
      "metadata": {
        "colab": {
          "base_uri": "https://localhost:8080/"
        },
        "id": "XFnIXBSU95no",
        "outputId": "fe932686-e2c7-4f43-a606-a5224cda964c"
      },
      "execution_count": 29,
      "outputs": [
        {
          "output_type": "stream",
          "name": "stdout",
          "text": [
            "27\n"
          ]
        }
      ]
    },
    {
      "cell_type": "markdown",
      "source": [
        "\n",
        "Write a Python function that counts how many times a specific element appears in a nested list. • Requirements: – Define a function count occurrences(lst, elem) that counts the occurrences of elem in the nested list lst. – Example: For the input lst = [[1, 2], [2, 3], [2, 4]] and elem = 2, the output should be 3."
      ],
      "metadata": {
        "id": "CUbJmoli-gR7"
      }
    },
    {
      "cell_type": "code",
      "source": [
        "\n",
        "def count_occurrences(lst, elem):\n",
        "    count = 0\n",
        "    for item in lst:\n",
        "        if isinstance(item, list):\n",
        "            count += count_occurrences(item, elem)\n",
        "        elif item == elem:\n",
        "            count += 1\n",
        "    return count\n",
        "\n",
        "\n",
        "nested_list = [[3, 2], [2, 3], [4, 3]]\n",
        "elemcount = 4\n",
        "result = count_occurrences(nested_list, elemcount)\n",
        "print(result)"
      ],
      "metadata": {
        "colab": {
          "base_uri": "https://localhost:8080/"
        },
        "id": "WRQV4G1b-lTV",
        "outputId": "17898547-2561-44ea-c1a7-b5cc7a9350a3"
      },
      "execution_count": 32,
      "outputs": [
        {
          "output_type": "stream",
          "name": "stdout",
          "text": [
            "1\n"
          ]
        }
      ]
    },
    {
      "cell_type": "markdown",
      "source": [
        "Write a Python function that flattens a list of lists of lists into a single list, regardless of the depth. • Requirements: – Define a function deep flatten(lst) that takes a deeply nested list lst and returns a single flattened list. – Example: For the input [[[1, 2], [3, 4]], [[5, 6], [7, 8]]], the output should be [1, 2, 3, 4, 5, 6, 7, 8]."
      ],
      "metadata": {
        "id": "jXrrQvcI-88x"
      }
    },
    {
      "cell_type": "code",
      "source": [
        "def deep_flatten(lst):\n",
        "    flattened = []\n",
        "\n",
        "    for item in lst:\n",
        "        if isinstance(item, list):\n",
        "            flattened.extend(deep_flatten(item))\n",
        "        else:\n",
        "            flattened.append(item)\n",
        "\n",
        "    return flattened\n",
        "\n",
        "nested_list = [[[1, 2], [3, 4]], [[5, 6], [7, 8]]]\n",
        "result = deep_flatten(nested_list)\n",
        "print(result)"
      ],
      "metadata": {
        "colab": {
          "base_uri": "https://localhost:8080/"
        },
        "id": "wQVqtyxx-_Iw",
        "outputId": "e200c151-b265-4432-d5b4-c9b9aed39c57"
      },
      "execution_count": 33,
      "outputs": [
        {
          "output_type": "stream",
          "name": "stdout",
          "text": [
            "[1, 2, 3, 4, 5, 6, 7, 8]\n"
          ]
        }
      ]
    },
    {
      "cell_type": "markdown",
      "source": [
        "Write a Python function that calculates the average of all elements in a nested list. • Requirements: – Define a function average nested(lst) that takes a nested list lst and returns the average of all the elements. – Example: For the input [[1, 2], [3, 4], [5, 6]], the output should be 3.5."
      ],
      "metadata": {
        "id": "M5rvLRzr_K4I"
      }
    },
    {
      "cell_type": "code",
      "source": [
        "def average_nested(lst):\n",
        "    def flatten(nested_lst):\n",
        "        flat_list = []\n",
        "        for item in nested_lst:\n",
        "            if isinstance(item, list):\n",
        "                flat_list.extend(flatten(item))\n",
        "            else:\n",
        "                flat_list.append(item)\n",
        "        return flat_list\n",
        "\n",
        "    flat_list = flatten(lst)\n",
        "    if not flat_list:\n",
        "        raise ValueError(\"The input list is empty.\")\n",
        "    return sum(flat_list) / len(flat_list)\n",
        "\n",
        "nested_list = [[4, 8], [5, 10], [6, 12]]\n",
        "average = average_nested(nested_list)\n",
        "print(\"Average of all elements in the nested list:\", average)"
      ],
      "metadata": {
        "colab": {
          "base_uri": "https://localhost:8080/"
        },
        "id": "ldc8Q3TY_NRp",
        "outputId": "5c1b4359-485c-47e3-efa8-e7fd7987aa07"
      },
      "execution_count": 36,
      "outputs": [
        {
          "output_type": "stream",
          "name": "stdout",
          "text": [
            "Average of all elements in the nested list: 7.5\n"
          ]
        }
      ]
    },
    {
      "cell_type": "markdown",
      "source": [
        "10.1 Basic Vector and Matrix Operation with Numpy. Problem - 1: Array Creation: Complete the following Tasks:\n",
        "\n",
        "1.Initialize an empty array with size 2X2.\n",
        "\n",
        "2.Initialize an all one array with size 4X2.\n",
        "\n",
        "3.Return a new array of given shape and type, filled with fill value.{Hint: np.full}\n",
        "\n",
        "4.Return a new array of zeros with same shape and type as a given array.{Hint: np.zeros like}\n",
        "\n",
        "5.Return a new array of ones with same shape and type as a given array.{Hint: np.ones like}\n",
        "\n",
        "6.For an existing list new_list = [1,2,3,4] convert to an numpy array.{Hint: np.array()}"
      ],
      "metadata": {
        "id": "-VGvwt0iAPVZ"
      }
    },
    {
      "cell_type": "code",
      "source": [
        "import numpy as np\n",
        "\n",
        "empty_array = np.empty((2, 2))\n",
        "print(\"Empty array with size (2x2):\\n\", empty_array)\n",
        "\n",
        "ones_array = np.ones((4, 2))\n",
        "print(\"All ones array with size (4x2):\\n\", ones_array)\n",
        "\n",
        "fill_value_array = np.full((3, 3), 7)\n",
        "print(\"Array filled with 7 (3x3):\\n\", fill_value_array)\n",
        "\n",
        "reference_array = np.array([[4, 5, 6], [7, 8, 9]])\n",
        "zeros_like_array = np.zeros_like(reference_array)\n",
        "print(\"Zeros array with same shape as reference array:\\n\", zeros_like_array)\n",
        "\n",
        "ones_like_array = np.ones_like(reference_array)\n",
        "print(\"Ones array with same shape as reference array:\\n\", ones_like_array)\n",
        "\n",
        "new_list = [1, 2, 3, 4]\n",
        "numpy_array = np.array(new_list)\n",
        "print(\"Converted numPy array from list:\\n\", numpy_array)"
      ],
      "metadata": {
        "colab": {
          "base_uri": "https://localhost:8080/"
        },
        "id": "l_tDb6JZAcqC",
        "outputId": "9eb59b50-9bb0-4fdf-836a-dbc53e36e21b"
      },
      "execution_count": 37,
      "outputs": [
        {
          "output_type": "stream",
          "name": "stdout",
          "text": [
            "Empty array with size (2x2):\n",
            " [[4.27666079e-316 0.00000000e+000]\n",
            " [6.19654689e-091 1.08601666e-071]]\n",
            "All ones array with size (4x2):\n",
            " [[1. 1.]\n",
            " [1. 1.]\n",
            " [1. 1.]\n",
            " [1. 1.]]\n",
            "Array filled with 7 (3x3):\n",
            " [[7 7 7]\n",
            " [7 7 7]\n",
            " [7 7 7]]\n",
            "Zeros array with same shape as reference array:\n",
            " [[0 0 0]\n",
            " [0 0 0]]\n",
            "Ones array with same shape as reference array:\n",
            " [[1 1 1]\n",
            " [1 1 1]]\n",
            "Converted numPy array from list:\n",
            " [1 2 3 4]\n"
          ]
        }
      ]
    },
    {
      "cell_type": "markdown",
      "source": [
        "Problem - 2: Array Manipulation: Numerical Ranges and Array indexing: Complete the following tasks:\n",
        "\n",
        "1.Create an array with values ranging from 10 to 49. {Hint:np.arrange()}.\n",
        "\n",
        "2.Create a 3X3 matrix with values ranging from 0 to 8. {Hint:look for np.reshape()}\n",
        "\n",
        "3.Create a 3X3 identity matrix.{Hint:np.eye()}\n",
        "\n",
        "4.Create a random array of size 30 and find the mean of the array. {Hint:check for np.random.random() and array.mean() function}\n",
        "\n",
        "5.Create a 10X10 array with random values and find the minimum and maximum values.\n",
        "\n",
        "6.Create a zero array of size 10 and replace 5th element with 1.\n",
        "\n",
        "7.Reverse an array arr = [1,2,0,0,4,0].\n",
        "\n",
        "8.Create a 2d array with 1 on border and 0 inside.\n",
        "\n",
        "9.Create a 8X8 matrix and fill it with a checkerboard pattern."
      ],
      "metadata": {
        "id": "rgAZDuGeAR_z"
      }
    },
    {
      "cell_type": "code",
      "source": [
        "array_10_to_49 = np.arange(10, 50)\n",
        "print(\"1. Array from 10 to 49:\\n\", array_10_to_49)\n",
        "\n",
        "matrix_3x3 = np.arange(9).reshape(3, 3)\n",
        "print(\"\\n2. 3x3 matrix (0 to 8):\\n\", matrix_3x3)\n",
        "\n",
        "identity_matrix = np.eye(3)\n",
        "print(\"\\n3. 3x3 Identity matrix:\\n\", identity_matrix)\n",
        "\n",
        "random_array = np.random.random(30)\n",
        "mean_value = random_array.mean()\n",
        "print(\"\\n4. Random array mean:\\n\", mean_value)\n",
        "\n",
        "random_10x10 = np.random.random((10, 10))\n",
        "min_value = random_10x10.min()\n",
        "max_value = random_10x10.max()\n",
        "print(\"\\n5. Min & Max of 10x10 array:\\nMin:\", min_value, \"Max:\", max_value)\n",
        "\n",
        "zero_array = np.zeros(10)\n",
        "zero_array[4] = 1\n",
        "print(\"\\n6. Zero array with 5th element as 1:\\n\", zero_array)\n",
        "\n",
        "arr = np.array([1, 2, 0, 0, 4, 0])\n",
        "reversed_arr = arr[::-1]\n",
        "print(\"\\n7. Reversed array:\\n\", reversed_arr)\n",
        "\n",
        "border_array = np.ones((5, 5))\n",
        "border_array[1:-1, 1:-1] = 0\n",
        "print(\"\\n8. 2D array with border 1 and inside 0:\\n\", border_array)\n",
        "\n",
        "checkerboard = np.zeros((8, 8), dtype=int)\n",
        "checkerboard[1::2, ::2] = 1\n",
        "checkerboard[::2, 1::2] = 1\n",
        "print(\"\\n9. 8x8 Checkerboard pattern:\\n\", checkerboard)"
      ],
      "metadata": {
        "colab": {
          "base_uri": "https://localhost:8080/"
        },
        "id": "D-AIR1oABnAO",
        "outputId": "39eb8f5c-ce75-4f91-a369-f312ea9afab9"
      },
      "execution_count": 38,
      "outputs": [
        {
          "output_type": "stream",
          "name": "stdout",
          "text": [
            "1. Array from 10 to 49:\n",
            " [10 11 12 13 14 15 16 17 18 19 20 21 22 23 24 25 26 27 28 29 30 31 32 33\n",
            " 34 35 36 37 38 39 40 41 42 43 44 45 46 47 48 49]\n",
            "\n",
            "2. 3x3 matrix (0 to 8):\n",
            " [[0 1 2]\n",
            " [3 4 5]\n",
            " [6 7 8]]\n",
            "\n",
            "3. 3x3 Identity matrix:\n",
            " [[1. 0. 0.]\n",
            " [0. 1. 0.]\n",
            " [0. 0. 1.]]\n",
            "\n",
            "4. Random array mean:\n",
            " 0.4377995440705894\n",
            "\n",
            "5. Min & Max of 10x10 array:\n",
            "Min: 0.007867335626629113 Max: 0.9988082468846812\n",
            "\n",
            "6. Zero array with 5th element as 1:\n",
            " [0. 0. 0. 0. 1. 0. 0. 0. 0. 0.]\n",
            "\n",
            "7. Reversed array:\n",
            " [0 4 0 0 2 1]\n",
            "\n",
            "8. 2D array with border 1 and inside 0:\n",
            " [[1. 1. 1. 1. 1.]\n",
            " [1. 0. 0. 0. 1.]\n",
            " [1. 0. 0. 0. 1.]\n",
            " [1. 0. 0. 0. 1.]\n",
            " [1. 1. 1. 1. 1.]]\n",
            "\n",
            "9. 8x8 Checkerboard pattern:\n",
            " [[0 1 0 1 0 1 0 1]\n",
            " [1 0 1 0 1 0 1 0]\n",
            " [0 1 0 1 0 1 0 1]\n",
            " [1 0 1 0 1 0 1 0]\n",
            " [0 1 0 1 0 1 0 1]\n",
            " [1 0 1 0 1 0 1 0]\n",
            " [0 1 0 1 0 1 0 1]\n",
            " [1 0 1 0 1 0 1 0]]\n"
          ]
        }
      ]
    },
    {
      "cell_type": "markdown",
      "source": [
        "For the following arrays: x = np.array([[1,2],[3,5]]) and y = np.array([[5,6],[7,8]]); v = np.array([9,10]) and w = np.array([11,12]); Complete all the task using numpy:\n",
        "\n",
        "1.Add the two array.\n",
        "\n",
        "2.Subtract the two array.\n",
        "\n",
        "3.Multiply the array with any integers of your choice.\n",
        "\n",
        "4.Find the square of each element of the array.\n",
        "\n",
        "5.Find the dot product between: v(and)w ; x(and)v ; x(and)y.\n",
        "\n",
        "6.Concatenate x(and)y along row and Concatenate v(and)w along column. {Hint:try np.concatenate() or np.vstack() functions.\n",
        "\n",
        "7.Concatenate x(and)v; if you get an error, observe and explain why did you get the error?"
      ],
      "metadata": {
        "id": "9U1maXgVBy2V"
      }
    },
    {
      "cell_type": "code",
      "source": [
        "\n",
        "x = np.array([[1, 2], [3, 5]])\n",
        "y = np.array([[5, 6], [7, 8]])\n",
        "v = np.array([9, 10])\n",
        "w = np.array([11, 12])\n",
        "\n",
        "add_xy = x + y\n",
        "print(\"1. Addition :\\n\", add_xy)\n",
        "\n",
        "sub_xy = x - y\n",
        "print(\"\\n2. Subtraction:\\n\", sub_xy)\n",
        "\n",
        "mul_x = x * 3\n",
        "print(\"\\n3. Multiplication by 3:\\n\", mul_x)\n",
        "\n",
        "square_x = np.square(x)\n",
        "print(\"\\n4. Square of each element :\\n\", square_x)\n",
        "\n",
        "dot_vw = np.dot(v, w)\n",
        "dot_xv = np.dot(x, v)\n",
        "dot_xy = np.dot(x, y)\n",
        "\n",
        "print(\"\\n5. Dot Product Results:\")\n",
        "print(\"Dot product of v and w:\", dot_vw)\n",
        "print(\"Dot product of x and v:\\n\", dot_xv)\n",
        "print(\"Dot product of x and y:\\n\", dot_xy)\n",
        "\n",
        "concat_xy = np.concatenate((x, y), axis=0)\n",
        "print(\"\\n6. Concatenation of x and y along rows:\\n\", concat_xy)\n",
        "\n",
        "concat_vw = np.vstack((v, w))\n",
        "print(\"\\nConcatenation of v and w along columns:\\n\", concat_vw)\n",
        "\n",
        "try:\n",
        "    concat_xv = np.concatenate((x, v), axis=0)\n",
        "    print(\"\\n7. Concatenation of x and v:\\n\", concat_xv)\n",
        "except ValueError as e:\n",
        "    print(\"\\n7. Error when concatenating x and v:\\n\", e)"
      ],
      "metadata": {
        "colab": {
          "base_uri": "https://localhost:8080/"
        },
        "id": "qM_Yiyn6B_bZ",
        "outputId": "9fa1bb3e-428d-425c-f5de-131f9aa5dd15"
      },
      "execution_count": 40,
      "outputs": [
        {
          "output_type": "stream",
          "name": "stdout",
          "text": [
            "1. Addition :\n",
            " [[ 6  8]\n",
            " [10 13]]\n",
            "\n",
            "2. Subtraction:\n",
            " [[-4 -4]\n",
            " [-4 -3]]\n",
            "\n",
            "3. Multiplication by 3:\n",
            " [[ 3  6]\n",
            " [ 9 15]]\n",
            "\n",
            "4. Square of each element :\n",
            " [[ 1  4]\n",
            " [ 9 25]]\n",
            "\n",
            "5. Dot Product Results:\n",
            "Dot product of v and w: 219\n",
            "Dot product of x and v:\n",
            " [29 77]\n",
            "Dot product of x and y:\n",
            " [[19 22]\n",
            " [50 58]]\n",
            "\n",
            "6. Concatenation of x and y along rows:\n",
            " [[1 2]\n",
            " [3 5]\n",
            " [5 6]\n",
            " [7 8]]\n",
            "\n",
            "Concatenation of v and w along columns:\n",
            " [[ 9 10]\n",
            " [11 12]]\n",
            "\n",
            "7. Error when concatenating x and v:\n",
            " all the input arrays must have same number of dimensions, but the array at index 0 has 2 dimension(s) and the array at index 1 has 1 dimension(s)\n"
          ]
        }
      ]
    },
    {
      "cell_type": "markdown",
      "source": [
        "• For the following arrays: A = np.array([[3,4],[7,8]]) and B = np.array([[5,3],[2,1]]); Prove following with Numpy:\n",
        "\n",
        "1.Prove A.A−1 = I.\n",
        "\n",
        "2.Prove AB ̸= BA.\n",
        "\n",
        "3.Prove (AB)T = BT AT\n",
        "\n",
        "4.Solve the following system of Linear equation using Inverse Methods. 2x−3y + z =−1 x−y + 2z =−3 3x + y−z = 9 {Hint: First use Numpy array to represent the equation in Matrix form. Then Solve for: AX= B} • Now: solve the above equation using np.linalg.inv function.{Explore more about ”linalg” func- tion of Numpy}"
      ],
      "metadata": {
        "id": "jG0IarDSB-jA"
      }
    },
    {
      "cell_type": "code",
      "source": [
        "A = np.array([[3, 4], [7, 8]])\n",
        "\n",
        "A_inv = np.linalg.inv(A)\n",
        "\n",
        "A_Ainv = np.dot(A, A_inv)\n",
        "\n",
        "\n",
        "print(\"1. A * A_inv = Identity Matrix:\")\n",
        "print(A_Ainv)"
      ],
      "metadata": {
        "colab": {
          "base_uri": "https://localhost:8080/"
        },
        "id": "9wknRP0IC0c5",
        "outputId": "3810e084-2bd5-4556-e8c6-059d7cae2cee"
      },
      "execution_count": 41,
      "outputs": [
        {
          "output_type": "stream",
          "name": "stdout",
          "text": [
            "1. A * A_inv = Identity Matrix:\n",
            "[[1.00000000e+00 0.00000000e+00]\n",
            " [1.77635684e-15 1.00000000e+00]]\n"
          ]
        }
      ]
    },
    {
      "cell_type": "code",
      "source": [
        "B = np.array([[5, 3], [2, 1]])\n",
        "\n",
        "AB = np.dot(A, B)\n",
        "BA = np.dot(B, A)\n",
        "\n",
        "print(\"AB =\\n\", AB)\n",
        "print(\"\\nBA =\\n\", BA)\n",
        "print(\"\\nAB == BA:\", np.array_equal(AB, BA))\n",
        ""
      ],
      "metadata": {
        "colab": {
          "base_uri": "https://localhost:8080/"
        },
        "id": "3n0O03rSC-Mz",
        "outputId": "20a2929e-5831-46f0-96b6-722620e70bc0"
      },
      "execution_count": 42,
      "outputs": [
        {
          "output_type": "stream",
          "name": "stdout",
          "text": [
            "AB =\n",
            " [[23 13]\n",
            " [51 29]]\n",
            "\n",
            "BA =\n",
            " [[36 44]\n",
            " [13 16]]\n",
            "\n",
            "AB == BA: False\n"
          ]
        }
      ]
    },
    {
      "cell_type": "code",
      "source": [
        "AB_T = np.transpose(AB)\n",
        "\n",
        "A_T = np.transpose(A)\n",
        "B_T = np.transpose(B)\n",
        "\n",
        "BT_AT = np.dot(B_T, A_T)\n",
        "\n",
        "print(\"(AB)_t:\\n\", AB_T)\n",
        "print(\"\\n(B_t * A_t):\\n\", BT_AT)\n",
        "print(\"\\n(AB)_t == (B_t * A_t):\", np.allclose(AB_T, BT_AT))"
      ],
      "metadata": {
        "colab": {
          "base_uri": "https://localhost:8080/"
        },
        "id": "iPIXtB2_DC8A",
        "outputId": "5d447a8c-d172-4562-ed69-e9995f37da28"
      },
      "execution_count": 43,
      "outputs": [
        {
          "output_type": "stream",
          "name": "stdout",
          "text": [
            "(AB)_t:\n",
            " [[23 51]\n",
            " [13 29]]\n",
            "\n",
            "(B_t * A_t):\n",
            " [[23 51]\n",
            " [13 29]]\n",
            "\n",
            "(AB)_t == (B_t * A_t): True\n"
          ]
        }
      ]
    },
    {
      "cell_type": "code",
      "source": [
        "A = np.array([[2, -3, 1], [1, -1, 2], [3, 1, -1]])\n",
        "B = np.array([-1, -3, 9])\n",
        "A_inv=np.linalg.inv(A)\n",
        "X=np.dot(A_inv,B)\n",
        "print(\"Solution for [x,y,z]:\",X)\n"
      ],
      "metadata": {
        "colab": {
          "base_uri": "https://localhost:8080/"
        },
        "id": "guEj-sPzDHFH",
        "outputId": "d71af26a-6f13-4381-f4db-888da91c4405"
      },
      "execution_count": 44,
      "outputs": [
        {
          "output_type": "stream",
          "name": "stdout",
          "text": [
            "Solution for [x,y,z]: [ 2.  1. -2.]\n"
          ]
        }
      ]
    }
  ]
}